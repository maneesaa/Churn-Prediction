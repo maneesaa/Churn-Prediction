{
 "cells": [
  {
   "cell_type": "code",
   "execution_count": 1,
   "id": "asian-legend",
   "metadata": {},
   "outputs": [],
   "source": [
    "\n",
    "# Importing necessary libraries\n",
    "import pandas as pd\n",
    "import matplotlib.pyplot as plt\n",
    "import seaborn as sns\n",
    "import numpy as np\n",
    "from sklearn.feature_selection import SelectFromModel\n",
    "from sklearn.model_selection import train_test_split\n",
    "from sklearn.svm import SVC\n",
    "from sklearn.ensemble import RandomForestClassifier\n",
    "from sklearn.metrics import f1_score,accuracy_score,confusion_matrix\n",
    "import seaborn as sns\n",
    "\n",
    "#import category_encoders as ce\n",
    "\n",
    "\n",
    "%matplotlib inline\n",
    "pd.pandas.set_option('display.max_columns',None)\n",
    "pd.pandas.set_option('display.max_rows',None)"
   ]
  },
  {
   "cell_type": "code",
   "execution_count": 2,
   "id": "athletic-cliff",
   "metadata": {},
   "outputs": [],
   "source": [
    "df_feature = pd.read_csv('clean_data.csv',index_col=0)\n",
    "df_test = pd.read_csv('test_clean_data.csv')\n",
    "df_score = pd.read_csv('score.csv')\n"
   ]
  },
  {
   "cell_type": "code",
   "execution_count": 3,
   "id": "mighty-instruction",
   "metadata": {},
   "outputs": [
    {
     "data": {
      "text/html": [
       "<div>\n",
       "<style scoped>\n",
       "    .dataframe tbody tr th:only-of-type {\n",
       "        vertical-align: middle;\n",
       "    }\n",
       "\n",
       "    .dataframe tbody tr th {\n",
       "        vertical-align: top;\n",
       "    }\n",
       "\n",
       "    .dataframe thead th {\n",
       "        text-align: right;\n",
       "    }\n",
       "</style>\n",
       "<table border=\"1\" class=\"dataframe\">\n",
       "  <thead>\n",
       "    <tr style=\"text-align: right;\">\n",
       "      <th></th>\n",
       "      <th>age</th>\n",
       "      <th>days_since_last_login</th>\n",
       "      <th>avg_time_spent</th>\n",
       "      <th>avg_transaction_value</th>\n",
       "      <th>points_in_wallet</th>\n",
       "      <th>gender_code</th>\n",
       "      <th>region_category_code</th>\n",
       "      <th>membership_category_code</th>\n",
       "      <th>year</th>\n",
       "      <th>joined_through_referral_code</th>\n",
       "      <th>preferred_offer_types_code</th>\n",
       "      <th>medium_of_operation_code</th>\n",
       "      <th>internet_option_code</th>\n",
       "      <th>used_special_discount_code</th>\n",
       "      <th>offer_application_preference_code</th>\n",
       "      <th>past_complaint_code</th>\n",
       "      <th>complaint_status_code</th>\n",
       "      <th>feedback_code</th>\n",
       "    </tr>\n",
       "  </thead>\n",
       "  <tbody>\n",
       "    <tr>\n",
       "      <th>0</th>\n",
       "      <td>18</td>\n",
       "      <td>17</td>\n",
       "      <td>300.63</td>\n",
       "      <td>53005.25</td>\n",
       "      <td>781.75</td>\n",
       "      <td>0</td>\n",
       "      <td>2</td>\n",
       "      <td>3</td>\n",
       "      <td>4</td>\n",
       "      <td>1</td>\n",
       "      <td>1</td>\n",
       "      <td>0</td>\n",
       "      <td>2</td>\n",
       "      <td>1</td>\n",
       "      <td>1</td>\n",
       "      <td>0</td>\n",
       "      <td>1</td>\n",
       "      <td>4</td>\n",
       "    </tr>\n",
       "    <tr>\n",
       "      <th>1</th>\n",
       "      <td>32</td>\n",
       "      <td>16</td>\n",
       "      <td>306.34</td>\n",
       "      <td>12838.38</td>\n",
       "      <td>641.22</td>\n",
       "      <td>0</td>\n",
       "      <td>0</td>\n",
       "      <td>4</td>\n",
       "      <td>4</td>\n",
       "      <td>0</td>\n",
       "      <td>1</td>\n",
       "      <td>2</td>\n",
       "      <td>1</td>\n",
       "      <td>1</td>\n",
       "      <td>0</td>\n",
       "      <td>1</td>\n",
       "      <td>2</td>\n",
       "      <td>5</td>\n",
       "    </tr>\n",
       "    <tr>\n",
       "      <th>2</th>\n",
       "      <td>44</td>\n",
       "      <td>14</td>\n",
       "      <td>516.16</td>\n",
       "      <td>21027.00</td>\n",
       "      <td>500.69</td>\n",
       "      <td>0</td>\n",
       "      <td>1</td>\n",
       "      <td>2</td>\n",
       "      <td>5</td>\n",
       "      <td>2</td>\n",
       "      <td>1</td>\n",
       "      <td>2</td>\n",
       "      <td>2</td>\n",
       "      <td>0</td>\n",
       "      <td>1</td>\n",
       "      <td>1</td>\n",
       "      <td>3</td>\n",
       "      <td>3</td>\n",
       "    </tr>\n",
       "    <tr>\n",
       "      <th>3</th>\n",
       "      <td>37</td>\n",
       "      <td>11</td>\n",
       "      <td>53.27</td>\n",
       "      <td>25239.56</td>\n",
       "      <td>567.66</td>\n",
       "      <td>1</td>\n",
       "      <td>0</td>\n",
       "      <td>2</td>\n",
       "      <td>5</td>\n",
       "      <td>2</td>\n",
       "      <td>1</td>\n",
       "      <td>2</td>\n",
       "      <td>1</td>\n",
       "      <td>0</td>\n",
       "      <td>1</td>\n",
       "      <td>1</td>\n",
       "      <td>4</td>\n",
       "      <td>3</td>\n",
       "    </tr>\n",
       "    <tr>\n",
       "      <th>4</th>\n",
       "      <td>31</td>\n",
       "      <td>20</td>\n",
       "      <td>113.13</td>\n",
       "      <td>24483.66</td>\n",
       "      <td>663.06</td>\n",
       "      <td>0</td>\n",
       "      <td>0</td>\n",
       "      <td>2</td>\n",
       "      <td>4</td>\n",
       "      <td>1</td>\n",
       "      <td>0</td>\n",
       "      <td>3</td>\n",
       "      <td>1</td>\n",
       "      <td>0</td>\n",
       "      <td>1</td>\n",
       "      <td>1</td>\n",
       "      <td>2</td>\n",
       "      <td>3</td>\n",
       "    </tr>\n",
       "  </tbody>\n",
       "</table>\n",
       "</div>"
      ],
      "text/plain": [
       "   age  days_since_last_login  avg_time_spent  avg_transaction_value  \\\n",
       "0   18                     17          300.63               53005.25   \n",
       "1   32                     16          306.34               12838.38   \n",
       "2   44                     14          516.16               21027.00   \n",
       "3   37                     11           53.27               25239.56   \n",
       "4   31                     20          113.13               24483.66   \n",
       "\n",
       "   points_in_wallet  gender_code  region_category_code  \\\n",
       "0            781.75            0                     2   \n",
       "1            641.22            0                     0   \n",
       "2            500.69            0                     1   \n",
       "3            567.66            1                     0   \n",
       "4            663.06            0                     0   \n",
       "\n",
       "   membership_category_code  year  joined_through_referral_code  \\\n",
       "0                         3     4                             1   \n",
       "1                         4     4                             0   \n",
       "2                         2     5                             2   \n",
       "3                         2     5                             2   \n",
       "4                         2     4                             1   \n",
       "\n",
       "   preferred_offer_types_code  medium_of_operation_code  internet_option_code  \\\n",
       "0                           1                         0                     2   \n",
       "1                           1                         2                     1   \n",
       "2                           1                         2                     2   \n",
       "3                           1                         2                     1   \n",
       "4                           0                         3                     1   \n",
       "\n",
       "   used_special_discount_code  offer_application_preference_code  \\\n",
       "0                           1                                  1   \n",
       "1                           1                                  0   \n",
       "2                           0                                  1   \n",
       "3                           0                                  1   \n",
       "4                           0                                  1   \n",
       "\n",
       "   past_complaint_code  complaint_status_code  feedback_code  \n",
       "0                    0                      1              4  \n",
       "1                    1                      2              5  \n",
       "2                    1                      3              3  \n",
       "3                    1                      4              3  \n",
       "4                    1                      2              3  "
      ]
     },
     "execution_count": 3,
     "metadata": {},
     "output_type": "execute_result"
    }
   ],
   "source": [
    "df_feature.head()"
   ]
  },
  {
   "cell_type": "code",
   "execution_count": 4,
   "id": "328f1b5e",
   "metadata": {},
   "outputs": [
    {
     "data": {
      "text/html": [
       "<div>\n",
       "<style scoped>\n",
       "    .dataframe tbody tr th:only-of-type {\n",
       "        vertical-align: middle;\n",
       "    }\n",
       "\n",
       "    .dataframe tbody tr th {\n",
       "        vertical-align: top;\n",
       "    }\n",
       "\n",
       "    .dataframe thead th {\n",
       "        text-align: right;\n",
       "    }\n",
       "</style>\n",
       "<table border=\"1\" class=\"dataframe\">\n",
       "  <thead>\n",
       "    <tr style=\"text-align: right;\">\n",
       "      <th></th>\n",
       "      <th>churn_risk_score</th>\n",
       "    </tr>\n",
       "  </thead>\n",
       "  <tbody>\n",
       "    <tr>\n",
       "      <th>0</th>\n",
       "      <td>2</td>\n",
       "    </tr>\n",
       "    <tr>\n",
       "      <th>1</th>\n",
       "      <td>1</td>\n",
       "    </tr>\n",
       "    <tr>\n",
       "      <th>2</th>\n",
       "      <td>5</td>\n",
       "    </tr>\n",
       "    <tr>\n",
       "      <th>3</th>\n",
       "      <td>5</td>\n",
       "    </tr>\n",
       "    <tr>\n",
       "      <th>4</th>\n",
       "      <td>5</td>\n",
       "    </tr>\n",
       "  </tbody>\n",
       "</table>\n",
       "</div>"
      ],
      "text/plain": [
       "   churn_risk_score\n",
       "0                 2\n",
       "1                 1\n",
       "2                 5\n",
       "3                 5\n",
       "4                 5"
      ]
     },
     "execution_count": 4,
     "metadata": {},
     "output_type": "execute_result"
    }
   ],
   "source": [
    "df_score.head()"
   ]
  },
  {
   "cell_type": "code",
   "execution_count": 5,
   "id": "prostate-robinson",
   "metadata": {},
   "outputs": [
    {
     "data": {
      "image/png": "[encoded data removed]",
      "text/plain": [
       "<Figure size 1440x504 with 1 Axes>"
      ]
     },
     "metadata": {
      "needs_background": "light"
     },
     "output_type": "display_data"
    }
   ],
   "source": [
    "plt.figure(figsize=(20,7))\n",
    "df_score[\"churn_risk_score\"].value_counts().plot.bar()\n",
    "plt.show()"
   ]
  },
  {
   "cell_type": "code",
   "execution_count": 6,
   "id": "assisted-taxation",
   "metadata": {},
   "outputs": [
    {
     "data": {
      "text/plain": [
       "age                                    int64\n",
       "days_since_last_login                  int64\n",
       "avg_time_spent                       float64\n",
       "avg_transaction_value                float64\n",
       "points_in_wallet                     float64\n",
       "gender_code                            int64\n",
       "region_category_code                   int64\n",
       "membership_category_code               int64\n",
       "year                                   int64\n",
       "joined_through_referral_code           int64\n",
       "preferred_offer_types_code             int64\n",
       "medium_of_operation_code               int64\n",
       "internet_option_code                   int64\n",
       "used_special_discount_code             int64\n",
       "offer_application_preference_code      int64\n",
       "past_complaint_code                    int64\n",
       "complaint_status_code                  int64\n",
       "feedback_code                          int64\n",
       "dtype: object"
      ]
     },
     "execution_count": 6,
     "metadata": {},
     "output_type": "execute_result"
    }
   ],
   "source": [
    "df_feature.dtypes"
   ]
  },
  {
   "cell_type": "code",
   "execution_count": 7,
   "id": "aerial-deadline",
   "metadata": {},
   "outputs": [],
   "source": [
    "import matplotlib.pyplot as plt\n",
    "%matplotlib inline"
   ]
  },
  {
   "cell_type": "code",
   "execution_count": 8,
   "id": "stock-retention",
   "metadata": {},
   "outputs": [],
   "source": [
    "# Plotting The Correlations between all the features\n",
    "#corrmat = df_feature.corr()\n",
    "#top_corr_features = corrmat.index\n",
    "#plt.figure(figsize=(20,20))\n",
    "#sns.heatmap(df_feature[top_corr_features].corr(), annot=True, cmap='RdYlGn')"
   ]
  },
  {
   "cell_type": "code",
   "execution_count": 9,
   "id": "brutal-growth",
   "metadata": {},
   "outputs": [],
   "source": [
    "X_train, X_val, y_train, y_val = train_test_split(df_feature,df_score,test_size=0.05, random_state = 42,stratify=df_score)"
   ]
  },
  {
   "cell_type": "code",
   "execution_count": 10,
   "id": "tribal-sunrise",
   "metadata": {},
   "outputs": [
    {
     "name": "stdout",
     "output_type": "stream",
     "text": [
      "(29758, 18)\n",
      "(29758, 1)\n",
      "(1567, 18)\n",
      "(1567, 1)\n"
     ]
    }
   ],
   "source": [
    "print(X_train.shape)\n",
    "print(y_train.shape)\n",
    "print(X_val.shape)\n",
    "print(y_val.shape)"
   ]
  },
  {
   "cell_type": "code",
   "execution_count": null,
   "id": "8610e8ed",
   "metadata": {},
   "outputs": [],
   "source": []
  },
  {
   "cell_type": "code",
   "execution_count": 11,
   "id": "extreme-mortgage",
   "metadata": {},
   "outputs": [],
   "source": [
    "from sklearn.preprocessing import StandardScaler\n",
    "sc = StandardScaler()\n",
    "X_train = sc.fit_transform(X_train)\n",
    "X_val = sc.transform(X_val)"
   ]
  },
  {
   "cell_type": "code",
   "execution_count": 12,
   "id": "laden-frank",
   "metadata": {},
   "outputs": [
    {
     "data": {
      "text/plain": [
       "0.9999999999999999"
      ]
     },
     "execution_count": 12,
     "metadata": {},
     "output_type": "execute_result"
    }
   ],
   "source": [
    "mean = np.mean(X_train)\n",
    "std = np.std(X_train)\n",
    "std\n"
   ]
  },
  {
   "cell_type": "code",
   "execution_count": 13,
   "id": "decimal-diana",
   "metadata": {},
   "outputs": [
    {
     "name": "stderr",
     "output_type": "stream",
     "text": [
      "/var/folders/tq/ptz_s_t91w34mmgp0vwxsq3h0000gn/T/ipykernel_14959/760754594.py:3: DataConversionWarning: A column-vector y was passed when a 1d array was expected. Please change the shape of y to (n_samples,), for example using ravel().\n",
      "  model1.fit(X_train,y_train)\n"
     ]
    },
    {
     "data": {
      "text/plain": [
       "RandomForestClassifier()"
      ]
     },
     "execution_count": 13,
     "metadata": {},
     "output_type": "execute_result"
    }
   ],
   "source": [
    "from sklearn.ensemble import RandomForestClassifier\n",
    "model1 = RandomForestClassifier()\n",
    "model1.fit(X_train,y_train)"
   ]
  },
  {
   "cell_type": "code",
   "execution_count": 14,
   "id": "ahead-watch",
   "metadata": {},
   "outputs": [
    {
     "name": "stdout",
     "output_type": "stream",
     "text": [
      "[3 4 5 ... 4 1 5]\n"
     ]
    },
    {
     "data": {
      "text/plain": [
       "0.6327265371430566"
      ]
     },
     "execution_count": 14,
     "metadata": {},
     "output_type": "execute_result"
    }
   ],
   "source": [
    "y_pred = model1.predict(X_val)\n",
    "print(y_pred)\n",
    "score_1 = f1_score(y_val,y_pred,average='macro')\n",
    "\n",
    "score_1"
   ]
  },
  {
   "cell_type": "code",
   "execution_count": 15,
   "id": "97081c2d",
   "metadata": {},
   "outputs": [
    {
     "data": {
      "text/plain": [
       "0.7530312699425654"
      ]
     },
     "execution_count": 15,
     "metadata": {},
     "output_type": "execute_result"
    }
   ],
   "source": [
    "accuracy_score(y_val, y_pred)"
   ]
  },
  {
   "cell_type": "code",
   "execution_count": 16,
   "id": "cd9d2e11",
   "metadata": {},
   "outputs": [
    {
     "data": {
      "text/plain": [
       "((1567,), (1567,))"
      ]
     },
     "execution_count": 16,
     "metadata": {},
     "output_type": "execute_result"
    }
   ],
   "source": [
    "y = y_val.values.reshape(y_pred.shape)\n",
    "y.shape,y_pred.shape"
   ]
  },
  {
   "cell_type": "code",
   "execution_count": 17,
   "id": "9a1245c4",
   "metadata": {},
   "outputs": [
    {
     "data": {
      "image/png": "[encoded data removed]",
      "text/plain": [
       "<Figure size 1440x504 with 2 Axes>"
      ]
     },
     "metadata": {
      "needs_background": "light"
     },
     "output_type": "display_data"
    }
   ],
   "source": [
    "def plot_confusion_matrix(y_val,y_pred):\n",
    "    plt.figure(figsize=(20,7))\n",
    "    C = confusion_matrix(y_val, y_pred)\n",
    "    sns.heatmap(C, annot=True, cmap=\"YlGnBu\", fmt=\".3f\")\n",
    "    \n",
    "plot_confusion_matrix(y,y_pred)"
   ]
  },
  {
   "cell_type": "code",
   "execution_count": 18,
   "id": "reported-norfolk",
   "metadata": {},
   "outputs": [
    {
     "data": {
      "text/plain": [
       "0.4137543976140674"
      ]
     },
     "execution_count": 18,
     "metadata": {},
     "output_type": "execute_result"
    }
   ],
   "source": [
    "#SVM\n",
    "model2 = SVC()\n",
    "model2.fit(X_train,y_train.values.ravel())\n",
    "predictions_3 = model2.predict(X_val)\n",
    "score_2 = f1_score(y_val,predictions_3,average='macro')\n",
    "score_2"
   ]
  },
  {
   "cell_type": "code",
   "execution_count": 19,
   "id": "af4ca5f8",
   "metadata": {},
   "outputs": [
    {
     "data": {
      "text/plain": [
       "0.5207402680280792"
      ]
     },
     "execution_count": 19,
     "metadata": {},
     "output_type": "execute_result"
    }
   ],
   "source": [
    "accuracy_score(y_val, predictions_3)"
   ]
  },
  {
   "cell_type": "code",
   "execution_count": 20,
   "id": "welsh-pricing",
   "metadata": {},
   "outputs": [
    {
     "data": {
      "image/png": "[encoded data removed]",
      "text/plain": [
       "<Figure size 1440x504 with 2 Axes>"
      ]
     },
     "metadata": {
      "needs_background": "light"
     },
     "output_type": "display_data"
    }
   ],
   "source": [
    "plot_confusion_matrix(y_val, predictions_3)"
   ]
  },
  {
   "cell_type": "code",
   "execution_count": 21,
   "id": "693f63d2",
   "metadata": {},
   "outputs": [
    {
     "data": {
      "text/html": [
       "<div>\n",
       "<style scoped>\n",
       "    .dataframe tbody tr th:only-of-type {\n",
       "        vertical-align: middle;\n",
       "    }\n",
       "\n",
       "    .dataframe tbody tr th {\n",
       "        vertical-align: top;\n",
       "    }\n",
       "\n",
       "    .dataframe thead th {\n",
       "        text-align: right;\n",
       "    }\n",
       "</style>\n",
       "<table border=\"1\" class=\"dataframe\">\n",
       "  <thead>\n",
       "    <tr style=\"text-align: right;\">\n",
       "      <th></th>\n",
       "      <th>age</th>\n",
       "      <th>days_since_last_login</th>\n",
       "      <th>avg_time_spent</th>\n",
       "      <th>avg_transaction_value</th>\n",
       "      <th>points_in_wallet</th>\n",
       "      <th>gender_code</th>\n",
       "      <th>region_category_code</th>\n",
       "      <th>membership_category_code</th>\n",
       "      <th>year</th>\n",
       "      <th>joined_through_referral_code</th>\n",
       "      <th>preferred_offer_types_code</th>\n",
       "      <th>medium_of_operation_code</th>\n",
       "      <th>internet_option_code</th>\n",
       "      <th>used_special_discount_code</th>\n",
       "      <th>offer_application_preference_code</th>\n",
       "      <th>past_complaint_code</th>\n",
       "      <th>complaint_status_code</th>\n",
       "      <th>feedback_code</th>\n",
       "    </tr>\n",
       "  </thead>\n",
       "  <tbody>\n",
       "    <tr>\n",
       "      <th>0</th>\n",
       "      <td>50</td>\n",
       "      <td>12</td>\n",
       "      <td>386.26</td>\n",
       "      <td>40721.44</td>\n",
       "      <td>733.830000</td>\n",
       "      <td>0</td>\n",
       "      <td>2</td>\n",
       "      <td>4</td>\n",
       "      <td>6</td>\n",
       "      <td>1</td>\n",
       "      <td>2</td>\n",
       "      <td>3</td>\n",
       "      <td>2</td>\n",
       "      <td>1</td>\n",
       "      <td>0</td>\n",
       "      <td>0</td>\n",
       "      <td>1</td>\n",
       "      <td>2</td>\n",
       "    </tr>\n",
       "    <tr>\n",
       "      <th>1</th>\n",
       "      <td>41</td>\n",
       "      <td>11</td>\n",
       "      <td>37.80</td>\n",
       "      <td>9644.40</td>\n",
       "      <td>726.000000</td>\n",
       "      <td>1</td>\n",
       "      <td>2</td>\n",
       "      <td>1</td>\n",
       "      <td>5</td>\n",
       "      <td>1</td>\n",
       "      <td>2</td>\n",
       "      <td>2</td>\n",
       "      <td>0</td>\n",
       "      <td>1</td>\n",
       "      <td>0</td>\n",
       "      <td>0</td>\n",
       "      <td>1</td>\n",
       "      <td>3</td>\n",
       "    </tr>\n",
       "    <tr>\n",
       "      <th>2</th>\n",
       "      <td>31</td>\n",
       "      <td>18</td>\n",
       "      <td>215.36</td>\n",
       "      <td>3693.25</td>\n",
       "      <td>713.780000</td>\n",
       "      <td>0</td>\n",
       "      <td>1</td>\n",
       "      <td>5</td>\n",
       "      <td>4</td>\n",
       "      <td>1</td>\n",
       "      <td>1</td>\n",
       "      <td>1</td>\n",
       "      <td>1</td>\n",
       "      <td>1</td>\n",
       "      <td>0</td>\n",
       "      <td>1</td>\n",
       "      <td>3</td>\n",
       "      <td>0</td>\n",
       "    </tr>\n",
       "    <tr>\n",
       "      <th>3</th>\n",
       "      <td>64</td>\n",
       "      <td>50</td>\n",
       "      <td>44.57</td>\n",
       "      <td>36809.56</td>\n",
       "      <td>744.970000</td>\n",
       "      <td>1</td>\n",
       "      <td>1</td>\n",
       "      <td>5</td>\n",
       "      <td>4</td>\n",
       "      <td>2</td>\n",
       "      <td>0</td>\n",
       "      <td>0</td>\n",
       "      <td>0</td>\n",
       "      <td>1</td>\n",
       "      <td>0</td>\n",
       "      <td>1</td>\n",
       "      <td>0</td>\n",
       "      <td>7</td>\n",
       "    </tr>\n",
       "    <tr>\n",
       "      <th>4</th>\n",
       "      <td>16</td>\n",
       "      <td>6</td>\n",
       "      <td>349.88</td>\n",
       "      <td>40675.86</td>\n",
       "      <td>299.048351</td>\n",
       "      <td>0</td>\n",
       "      <td>1</td>\n",
       "      <td>2</td>\n",
       "      <td>6</td>\n",
       "      <td>2</td>\n",
       "      <td>2</td>\n",
       "      <td>3</td>\n",
       "      <td>1</td>\n",
       "      <td>0</td>\n",
       "      <td>1</td>\n",
       "      <td>1</td>\n",
       "      <td>3</td>\n",
       "      <td>3</td>\n",
       "    </tr>\n",
       "  </tbody>\n",
       "</table>\n",
       "</div>"
      ],
      "text/plain": [
       "   age  days_since_last_login  avg_time_spent  avg_transaction_value  \\\n",
       "0   50                     12          386.26               40721.44   \n",
       "1   41                     11           37.80                9644.40   \n",
       "2   31                     18          215.36                3693.25   \n",
       "3   64                     50           44.57               36809.56   \n",
       "4   16                      6          349.88               40675.86   \n",
       "\n",
       "   points_in_wallet  gender_code  region_category_code  \\\n",
       "0        733.830000            0                     2   \n",
       "1        726.000000            1                     2   \n",
       "2        713.780000            0                     1   \n",
       "3        744.970000            1                     1   \n",
       "4        299.048351            0                     1   \n",
       "\n",
       "   membership_category_code  year  joined_through_referral_code  \\\n",
       "0                         4     6                             1   \n",
       "1                         1     5                             1   \n",
       "2                         5     4                             1   \n",
       "3                         5     4                             2   \n",
       "4                         2     6                             2   \n",
       "\n",
       "   preferred_offer_types_code  medium_of_operation_code  internet_option_code  \\\n",
       "0                           2                         3                     2   \n",
       "1                           2                         2                     0   \n",
       "2                           1                         1                     1   \n",
       "3                           0                         0                     0   \n",
       "4                           2                         3                     1   \n",
       "\n",
       "   used_special_discount_code  offer_application_preference_code  \\\n",
       "0                           1                                  0   \n",
       "1                           1                                  0   \n",
       "2                           1                                  0   \n",
       "3                           1                                  0   \n",
       "4                           0                                  1   \n",
       "\n",
       "   past_complaint_code  complaint_status_code  feedback_code  \n",
       "0                    0                      1              2  \n",
       "1                    0                      1              3  \n",
       "2                    1                      3              0  \n",
       "3                    1                      0              7  \n",
       "4                    1                      3              3  "
      ]
     },
     "execution_count": 21,
     "metadata": {},
     "output_type": "execute_result"
    }
   ],
   "source": [
    "df_test.head()"
   ]
  },
  {
   "cell_type": "code",
   "execution_count": 22,
   "id": "tight-rehabilitation",
   "metadata": {},
   "outputs": [],
   "source": [
    "test_df = sc.transform(df_test)\n",
    "prediction = model1.predict(test_df)"
   ]
  },
  {
   "cell_type": "code",
   "execution_count": 23,
   "id": "attempted-gateway",
   "metadata": {},
   "outputs": [],
   "source": [
    "## use loop to make it work \n",
    "#if(prediction <= 3):\n",
    "   #print('The customer will churn')\n",
    "#else:\n",
    "  # print('The customer will not  churn')"
   ]
  },
  {
   "cell_type": "code",
   "execution_count": 24,
   "id": "e2ad017c",
   "metadata": {},
   "outputs": [],
   "source": [
    "import pickle\n",
    "pickle.dump(model1,open('ML.pkl','wb'))\n",
    "pickle.dump(model2,open('ML.pkl','wb'))"
   ]
  },
  {
   "cell_type": "code",
   "execution_count": 25,
   "id": "2e6041f2",
   "metadata": {},
   "outputs": [],
   "source": [
    "# print(model1.predict([ 24,16,32.42,37953.61,614.71,1,0,1,5,2,2,2,0,1,0,1,4,2]))"
   ]
  },
  {
   "cell_type": "code",
   "execution_count": 26,
   "id": "41e56169",
   "metadata": {},
   "outputs": [
    {
     "name": "stderr",
     "output_type": "stream",
     "text": [
      "/Library/Frameworks/Python.framework/Versions/3.10/lib/python3.10/site-packages/sklearn/base.py:450: UserWarning: X does not have valid feature names, but StandardScaler was fitted with feature names\n",
      "  warnings.warn(\n"
     ]
    },
    {
     "data": {
      "text/plain": [
       "array([[-2.3444442 ,  0.12187079, -0.52942463,  0.44108308, -3.53900745,\n",
       "         0.98808223, -1.06720462, -0.72164055,  0.0104555 ,  1.02858976,\n",
       "         1.23614865,  0.01043417, -1.22410838,  0.90784872, -1.11142196,\n",
       "         1.00013443,  1.94277037, -0.42093324]])"
      ]
     },
     "execution_count": 26,
     "metadata": {},
     "output_type": "execute_result"
    }
   ],
   "source": [
    "input_data=np.array([ 0,16,32.42,37953.61,14.71,1,0,1,5,2,2,2,0,1,0,1,4,2])\n",
    "input_data = input_data.reshape(1,18)\n",
    "final_input_data = sc.transform(input_data)\n",
    "final_input_data"
   ]
  },
  {
   "cell_type": "code",
   "execution_count": 27,
   "id": "bccac3e6",
   "metadata": {},
   "outputs": [
    {
     "data": {
      "text/plain": [
       "array([4])"
      ]
     },
     "execution_count": 27,
     "metadata": {},
     "output_type": "execute_result"
    }
   ],
   "source": [
    "prediction = model1.predict(final_input_data)\n",
    "prediction"
   ]
  },
  {
   "cell_type": "code",
   "execution_count": 28,
   "id": "5b1e15b6",
   "metadata": {},
   "outputs": [
    {
     "name": "stdout",
     "output_type": "stream",
     "text": [
      "The customer will not  churn\n"
     ]
    }
   ],
   "source": [
    "if(prediction <= 3):\n",
    "   print('The customer will churn')\n",
    "else:\n",
    "   print('The customer will not  churn')"
   ]
  },
  {
   "cell_type": "code",
   "execution_count": null,
   "id": "0d9c6efe",
   "metadata": {},
   "outputs": [],
   "source": []
  }
 ],
 "metadata": {
  "kernelspec": {
   "display_name": "Python 3 (ipykernel)",
   "language": "python",
   "name": "python3"
  },
  "language_info": {
   "codemirror_mode": {
    "name": "ipython",
    "version": 3
   },
   "file_extension": ".py",
   "mimetype": "text/x-python",
   "name": "python",
   "nbconvert_exporter": "python",
   "pygments_lexer": "ipython3",
   "version": "3.10.2"
  }
 },
 "nbformat": 4,
 "nbformat_minor": 5
}
